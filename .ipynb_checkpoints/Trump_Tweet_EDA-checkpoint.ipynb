{
 "cells": [
  {
   "cell_type": "markdown",
   "metadata": {},
   "source": [
    "# Trump Tweet EDA"
   ]
  },
  {
   "cell_type": "markdown",
   "metadata": {},
   "source": [
    "The Data For this notebook is from the trump twitter archive: http://www.trumptwitterarchive.com/archive"
   ]
  },
  {
   "cell_type": "code",
   "execution_count": 1,
   "metadata": {},
   "outputs": [],
   "source": [
    "import pandas as pd\n",
    "import numpy as np\n",
    "\n"
   ]
  },
  {
   "cell_type": "code",
   "execution_count": 2,
   "metadata": {},
   "outputs": [],
   "source": [
    "USER_NAME = 'EdenTrainor' #Configure this with your username\n",
    "DATA_FILE = 'C:/Users/{}/Datalytyx/Delivery - Documents/Data Science/Data/Trump_Tweets/trump_tweets_05-11-18.csv'.format(USER_NAME)"
   ]
  },
  {
   "cell_type": "markdown",
   "metadata": {},
   "source": [
    "Import the data as a pandas dataframe"
   ]
  },
  {
   "cell_type": "code",
   "execution_count": 5,
   "metadata": {},
   "outputs": [],
   "source": [
    "df = pd.read_csv(DATA_FILE)"
   ]
  },
  {
   "cell_type": "code",
   "execution_count": 8,
   "metadata": {},
   "outputs": [
    {
     "data": {
      "text/html": [
       "<div>\n",
       "<style scoped>\n",
       "    .dataframe tbody tr th:only-of-type {\n",
       "        vertical-align: middle;\n",
       "    }\n",
       "\n",
       "    .dataframe tbody tr th {\n",
       "        vertical-align: top;\n",
       "    }\n",
       "\n",
       "    .dataframe thead th {\n",
       "        text-align: right;\n",
       "    }\n",
       "</style>\n",
       "<table border=\"1\" class=\"dataframe\">\n",
       "  <thead>\n",
       "    <tr style=\"text-align: right;\">\n",
       "      <th></th>\n",
       "      <th>source</th>\n",
       "      <th>text</th>\n",
       "      <th>created_at</th>\n",
       "      <th>retweet_count</th>\n",
       "      <th>favorite_count</th>\n",
       "      <th>is_retweet</th>\n",
       "      <th>id_str</th>\n",
       "    </tr>\n",
       "  </thead>\n",
       "  <tbody>\n",
       "    <tr>\n",
       "      <th>0</th>\n",
       "      <td>Twitter for iPhone</td>\n",
       "      <td>Dana Rohrabacher has been a great Congressman ...</td>\n",
       "      <td>11-05-2018 05:32:10</td>\n",
       "      <td>4677</td>\n",
       "      <td>15407</td>\n",
       "      <td>False</td>\n",
       "      <td>1059317426653933568</td>\n",
       "    </tr>\n",
       "    <tr>\n",
       "      <th>1</th>\n",
       "      <td>Twitter for iPhone</td>\n",
       "      <td>John James running as a Republican for the Sen...</td>\n",
       "      <td>11-05-2018 05:04:53</td>\n",
       "      <td>8082</td>\n",
       "      <td>25479</td>\n",
       "      <td>False</td>\n",
       "      <td>1059310562771984390</td>\n",
       "    </tr>\n",
       "    <tr>\n",
       "      <th>2</th>\n",
       "      <td>Twitter for iPhone</td>\n",
       "      <td>In just 2 days the people of Tennessee are goi...</td>\n",
       "      <td>11-05-2018 02:00:06</td>\n",
       "      <td>8689</td>\n",
       "      <td>29380</td>\n",
       "      <td>False</td>\n",
       "      <td>1059264061030969344</td>\n",
       "    </tr>\n",
       "    <tr>\n",
       "      <th>3</th>\n",
       "      <td>Twitter for iPhone</td>\n",
       "      <td>Thank you for joining us tonight in Tennessee ...</td>\n",
       "      <td>11-05-2018 01:36:10</td>\n",
       "      <td>15660</td>\n",
       "      <td>53542</td>\n",
       "      <td>False</td>\n",
       "      <td>1059258034474704897</td>\n",
       "    </tr>\n",
       "    <tr>\n",
       "      <th>4</th>\n",
       "      <td>Twitter for iPhone</td>\n",
       "      <td>Great to be back in Tennessee. On our way to t...</td>\n",
       "      <td>11-04-2018 23:47:01</td>\n",
       "      <td>10104</td>\n",
       "      <td>39654</td>\n",
       "      <td>False</td>\n",
       "      <td>1059230569257680896</td>\n",
       "    </tr>\n",
       "  </tbody>\n",
       "</table>\n",
       "</div>"
      ],
      "text/plain": [
       "               source                                               text  \\\n",
       "0  Twitter for iPhone  Dana Rohrabacher has been a great Congressman ...   \n",
       "1  Twitter for iPhone  John James running as a Republican for the Sen...   \n",
       "2  Twitter for iPhone  In just 2 days the people of Tennessee are goi...   \n",
       "3  Twitter for iPhone  Thank you for joining us tonight in Tennessee ...   \n",
       "4  Twitter for iPhone  Great to be back in Tennessee. On our way to t...   \n",
       "\n",
       "            created_at  retweet_count  favorite_count  is_retweet  \\\n",
       "0  11-05-2018 05:32:10           4677           15407       False   \n",
       "1  11-05-2018 05:04:53           8082           25479       False   \n",
       "2  11-05-2018 02:00:06           8689           29380       False   \n",
       "3  11-05-2018 01:36:10          15660           53542       False   \n",
       "4  11-04-2018 23:47:01          10104           39654       False   \n",
       "\n",
       "                id_str  \n",
       "0  1059317426653933568  \n",
       "1  1059310562771984390  \n",
       "2  1059264061030969344  \n",
       "3  1059258034474704897  \n",
       "4  1059230569257680896  "
      ]
     },
     "execution_count": 8,
     "metadata": {},
     "output_type": "execute_result"
    }
   ],
   "source": [
    "df.head()"
   ]
  },
  {
   "cell_type": "markdown",
   "metadata": {},
   "source": [
    "Check Dataset is clean:"
   ]
  },
  {
   "cell_type": "code",
   "execution_count": 11,
   "metadata": {},
   "outputs": [
    {
     "data": {
      "text/plain": [
       "True"
      ]
     },
     "execution_count": 11,
     "metadata": {},
     "output_type": "execute_result"
    }
   ],
   "source": [
    "#Check Id stings are all unique\n",
    "df.shape[0] == len(set(df['id_str']))"
   ]
  },
  {
   "cell_type": "code",
   "execution_count": 13,
   "metadata": {},
   "outputs": [
    {
     "data": {
      "text/plain": [
       "source            0\n",
       "text              0\n",
       "created_at        0\n",
       "retweet_count     0\n",
       "favorite_count    0\n",
       "is_retweet        0\n",
       "id_str            0\n",
       "dtype: int64"
      ]
     },
     "execution_count": 13,
     "metadata": {},
     "output_type": "execute_result"
    }
   ],
   "source": [
    "#Check for empty values\n",
    "df.isna().sum()"
   ]
  },
  {
   "cell_type": "markdown",
   "metadata": {},
   "source": [
    "####\n"
   ]
  }
 ],
 "metadata": {
  "kernelspec": {
   "display_name": "Python 3",
   "language": "python",
   "name": "python3"
  },
  "language_info": {
   "codemirror_mode": {
    "name": "ipython",
    "version": 3
   },
   "file_extension": ".py",
   "mimetype": "text/x-python",
   "name": "python",
   "nbconvert_exporter": "python",
   "pygments_lexer": "ipython3",
   "version": "3.6.5"
  }
 },
 "nbformat": 4,
 "nbformat_minor": 2
}
